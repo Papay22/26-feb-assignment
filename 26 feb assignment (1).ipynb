{
 "cells": [
  {
   "cell_type": "code",
   "execution_count": null,
   "id": "2bb7cd99-6d5c-47e4-bc38-48188f53910d",
   "metadata": {},
   "outputs": [],
   "source": [
    "Yes, there is a difference in the data type of variables list_ and array_list.\n",
    "\n",
    "\n",
    "print(type(list_))\n",
    "\n",
    "print(type(array_list))\n",
    "\n",
    "\n",
    "Output:\n",
    "\n",
    "<class 'tuple'>\n",
    "\n",
    "<class 'numpy.ndarray'>"
   ]
  },
  {
   "cell_type": "code",
   "execution_count": null,
   "id": "f3917880-612b-4583-adc9-5bae54ad9ec7",
   "metadata": {},
   "outputs": [],
   "source": [
    "ChatGPT-3\n",
    "15:33\n",
    "list_ = 1, 2.5, \"Hello\", True\n",
    "\n",
    "array_list = [1, 2, 3, 4, 5, 6, 7, 8, 9]\n",
    "\n",
    "\n",
    "for item in list_:\n",
    "\n",
    "print(type(item))\n",
    "\n",
    "\n",
    "for item in array_list:\n",
    "\n",
    "for sub_item in item:\n",
    "\n",
    "print(type(sub_item))"
   ]
  },
  {
   "cell_type": "code",
   "execution_count": null,
   "id": "54d70b08-c8b9-4343-93bd-be64569af47a",
   "metadata": {},
   "outputs": [],
   "source": [
    "Yes, there will be a difference in the data type of the elements present in both the variables, list_ and array_list. The data type of each and every element present in list_ will be of type string whereas the data type of each and every element present in array_list will be of type int."
   ]
  },
  {
   "cell_type": "code",
   "execution_count": null,
   "id": "0916537a-b42b-40d3-ab0e-b7a0a1af1e91",
   "metadata": {},
   "outputs": [],
   "source": [
    "(iii) minimum value\n",
    "\n",
    "(iv) maximum value\n",
    "\n",
    "\n",
    "import numpy as np\n",
    "\n",
    "\n",
    "num_array = np.array([1, 2, 3, 4, 5, 6, 7, 8, 9])\n",
    "\n",
    "\n",
    "(i) shape\n",
    "\n",
    "\n",
    "print(\"Shape of num_array:\", num_array.shape)\n",
    "\n",
    "\n",
    "(ii) size\n",
    "\n",
    "\n",
    "print(\"Size of num_array:\", num_array.size)\n",
    "\n",
    "\n",
    "(iii) minimum value\n",
    "\n",
    "\n",
    "print(\"Minimum value of num_array:\", np.min(num_array))\n",
    "\n",
    "\n",
    "(iv) maximum valueprint(\"Maximum value of num_array:\", np.max(num_array))"
   ]
  },
  {
   "cell_type": "code",
   "execution_count": null,
   "id": "d7062636-b7e0-4fbc-b1f9-cf9a6eaa0034",
   "metadata": {},
   "outputs": [],
   "source": [
    "import numpy as np\n",
    "\n",
    "\n",
    "arr = np.zeros((3,3))\n",
    "\n",
    "print(arr)"
   ]
  },
  {
   "cell_type": "code",
   "execution_count": null,
   "id": "395344fe-f395-4d86-8502-2a721a001171",
   "metadata": {},
   "outputs": [],
   "source": [
    "import numpy as np\n",
    "\n",
    "\n",
    "np.eye(5"
   ]
  }
 ],
 "metadata": {
  "kernelspec": {
   "display_name": "Python 3 (ipykernel)",
   "language": "python",
   "name": "python3"
  },
  "language_info": {
   "codemirror_mode": {
    "name": "ipython",
    "version": 3
   },
   "file_extension": ".py",
   "mimetype": "text/x-python",
   "name": "python",
   "nbconvert_exporter": "python",
   "pygments_lexer": "ipython3",
   "version": "3.10.8"
  }
 },
 "nbformat": 4,
 "nbformat_minor": 5
}
